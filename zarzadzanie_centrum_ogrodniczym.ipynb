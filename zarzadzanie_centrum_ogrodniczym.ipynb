{
 "cells": [
  {
   "cell_type": "markdown",
   "metadata": {},
   "source": [
    "Zarządzanie Centrum Ogrodniczym."
   ]
  },
  {
   "cell_type": "code",
   "execution_count": 4,
   "metadata": {},
   "outputs": [],
   "source": [
    "#Tworzenie klas oraz metod dotyczących zawartości Centrum.\n",
    "class Plant:\n",
    "    def __init__(self, name: str, price: float):\n",
    "        self.name = name\n",
    "        self.price = price\n",
    "\n",
    "class Product:\n",
    "    def __init__(self, plant: Plant, pot_price: float = 0.0, cover_price: float = 0.0):\n",
    "        self.plant = plant\n",
    "        self.pot_price = pot_price\n",
    "        self.cover_price = cover_price\n",
    "\n",
    "    def calculate_price(self) -> float:\n",
    "        return self.plant.price + self.pot_price + self.cover_price\n",
    "\n",
    "    def __str__(self):\n",
    "        description = f\"Product: {self.plant.name}, Plant Price: {self.plant.price:.2f}\"\n",
    "        if self.pot_price > 0:\n",
    "            description += f\", Pot Price: {self.pot_price:.2f}\"\n",
    "        if self.cover_price > 0:\n",
    "            description += f\", Cover Price: {self.cover_price:.2f}\"\n",
    "        description += f\"\\nTotal Price: {self.calculate_price():.2f}\"\n",
    "        return description"
   ]
  },
  {
   "cell_type": "code",
   "execution_count": 7,
   "metadata": {},
   "outputs": [],
   "source": [
    "#Tworzenie klas oraz metod dotyczących obsługi magazynu.\n",
    "class Inventory:\n",
    "    def __init__(self):\n",
    "        self.products = []\n",
    "\n",
    "    def add_product(self, product: Product) -> None:\n",
    "        \"\"\"\n",
    "        Dodaje produkt do magazynu.\n",
    "        \"\"\"\n",
    "        self.products.append(product)\n",
    "\n",
    "    def list_products(self) -> None:\n",
    "        \"\"\"\n",
    "        Wyświetla listę wszystkich produktów w magazynie wraz z ich szczegółami.\n",
    "\n",
    "        Wyświetla komunikat, jeśli magazyn jest pusty.\n",
    "        \"\"\"\n",
    "        if not self.products:\n",
    "            print(\"Inventory is empty.\")\n",
    "            return\n",
    "        print(\"Inventory:\")\n",
    "        for i, product in enumerate(self.products, start=1):\n",
    "            print(f\"{i}. {product}\")\n",
    "\n",
    "    def calculate_total_inventory_value(self) -> float:\n",
    "        \"\"\"\n",
    "        Oblicza całkowitą wartość wszystkich produktów w magazynie.\n",
    "\n",
    "        return: Całkowita wartość magazynu jako zmienna.\n",
    "        \"\"\"\n",
    "        return sum(product.calculate_price() for product in self.products)\n",
    "\n",
    "    def find_most_expensive_product(self) -> Product:\n",
    "        \"\"\"\n",
    "        Wyszukuje i zwraca najdroższy produkt w magazynie.\n",
    "        Zwraca: Wystąpienie produktu z najwyższą ceną całkowitą.\n",
    "\n",
    "        ValueError: Jeśli magazyn jest pusty.\n",
    "        \"\"\"\n",
    "        if not self.products:\n",
    "            raise ValueError(\"Magazyn jest pusty!\")\n",
    "        return max(self.products, key=lambda product: product.calculate_price())"
   ]
  },
  {
   "cell_type": "code",
   "execution_count": 8,
   "metadata": {},
   "outputs": [
    {
     "name": "stdout",
     "output_type": "stream",
     "text": [
      "Inventory:\n",
      "1. Product: Rose, Plant Price: 10.00, Pot Price: 20.00\n",
      "Total Price: 30.00\n",
      "2. Product: Rose, Plant Price: 10.00, Cover Price: 15.00\n",
      "Total Price: 25.00\n",
      "3. Product: Pine, Plant Price: 25.00, Pot Price: 10.00, Cover Price: 5.00\n",
      "Total Price: 40.00\n",
      "\n",
      "Total inventory value: 95.00\n",
      "\n",
      "Most expensive product: Product: Pine, Plant Price: 25.00, Pot Price: 10.00, Cover Price: 5.00\n",
      "Total Price: 40.00\n"
     ]
    }
   ],
   "source": [
    "# Przykład użycia\n",
    "if __name__ == \"__main__\":\n",
    "    # Rosliny\n",
    "    flower = Plant(name=\"Rose\", price=10.0)\n",
    "    tree = Plant(name=\"Pine\", price=25.0)\n",
    "\n",
    "    # Produkty\n",
    "    product1 = Product(plant=flower, pot_price=20.0)\n",
    "    product2 = Product(plant=flower, cover_price=15.0)\n",
    "    product3 = Product(plant=tree, pot_price=10.0, cover_price=5.0)\n",
    "\n",
    "    # Zarządzanie magazynem\n",
    "    inventory = Inventory()\n",
    "    inventory.add_product(product1)\n",
    "    inventory.add_product(product2)\n",
    "    inventory.add_product(product3)\n",
    "\n",
    "    # Wyświetlenie produktów w magazynie\n",
    "    inventory.list_products()\n",
    "\n",
    "    # Obliczanie całkowitej wartości magazynu\n",
    "    total_value = inventory.calculate_total_inventory_value()\n",
    "    print(f\"\\nTotal inventory value: {total_value:.2f}\")\n",
    "\n",
    "    # Znalezienie najdroższego produktu w magazynie\n",
    "    try:\n",
    "        most_expensive = inventory.find_most_expensive_product()\n",
    "        print(f\"\\nMost expensive product: {most_expensive}\")\n",
    "    except ValueError as e:\n",
    "        print(e)"
   ]
  }
 ],
 "metadata": {
  "kernelspec": {
   "display_name": "Python 3",
   "language": "python",
   "name": "python3"
  },
  "language_info": {
   "codemirror_mode": {
    "name": "ipython",
    "version": 3
   },
   "file_extension": ".py",
   "mimetype": "text/x-python",
   "name": "python",
   "nbconvert_exporter": "python",
   "pygments_lexer": "ipython3",
   "version": "3.12.6"
  }
 },
 "nbformat": 4,
 "nbformat_minor": 2
}
